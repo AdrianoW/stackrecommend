{
 "metadata": {
  "name": "",
  "signature": "sha256:c317f085df0431ebc8e530cd03917f6e818633bd112b202e31e8e165a9ec6ead"
 },
 "nbformat": 3,
 "nbformat_minor": 0,
 "worksheets": [
  {
   "cells": [
    {
     "cell_type": "markdown",
     "metadata": {},
     "source": [
      "<center>\n",
      "#Data Analysis"
     ]
    },
    {
     "cell_type": "markdown",
     "metadata": {},
     "source": [
      "It all starts with that. Exploring the data. Trying to make sense of it."
     ]
    },
    {
     "cell_type": "markdown",
     "metadata": {},
     "source": [
      "I had the Stack Overflow public dump from march 2014 with the users, posts, tags, etc. In total they are about 30GB. Because of their size, that could not fit in memory, and they format, XML, I decided to start fresh, with the Stack Exchange API."
     ]
    },
    {
     "cell_type": "markdown",
     "metadata": {},
     "source": [
      "### Function to get users from stack api"
     ]
    },
    {
     "cell_type": "code",
     "collapsed": false,
     "input": [
      "import pandas as pd\n",
      "import seaborn as sns\n",
      "from datetime import datetime\n",
      "import matplotlib as mpl\n",
      "import matplotlib.pyplot as plt\n",
      "import requests\n",
      "import time\n",
      "from glob import glob"
     ],
     "language": "python",
     "metadata": {},
     "outputs": [],
     "prompt_number": 38
    },
    {
     "cell_type": "code",
     "collapsed": false,
     "input": [
      "# seaborn config\n",
      "sns.set_palette(\"deep\", desat=.6)\n",
      "sns.set_context(rc={\"figure.figsize\": (8, 4)})\n",
      "np.random.seed(9221999)"
     ],
     "language": "python",
     "metadata": {},
     "outputs": [],
     "prompt_number": 2
    },
    {
     "cell_type": "code",
     "collapsed": false,
     "input": [
      "def get_users(p_sort=0, amount=1000):\n",
      "    ''' \n",
      "    Get users ordered by a principle passed as a parameter\n",
      "    \n",
      "    Params:\n",
      "        :sort(int, optional): a number that represent one of the orders:\n",
      "            [reputation, creation, name, modified]\n",
      "        :amount(int, optional): amount of users to get. Multiple of 1000\n",
      "    '''\n",
      "    \n",
      "    # create the url\n",
      "    url = 'http://api.stackexchange.com/2.2/users/?order=desc&sort={}&site=stackoverflow&key='+ app_key['key']\n",
      "    page_size = '&pagesize=100'\n",
      "    page =1\n",
      "    order = ['reputation', 'creation', 'name', 'modified']\n",
      "\n",
      "    # while there is data\n",
      "    first = True\n",
      "    ret = None\n",
      "    while True:\n",
      "        t1 = datetime.now()\n",
      "        response = requests.get(url.format(order[p_sort])+page_size+'&page='+str(page))\n",
      "        d= response.json()\n",
      "        if first:\n",
      "            ret = pd.DataFrame(d['items'])\n",
      "            first = not first\n",
      "        else:\n",
      "            ret = pd.concat([ret,pd.DataFrame(d['items'])])\n",
      "\n",
      "        # check if there is more\n",
      "        if d['has_more']:\n",
      "            # check if the limit has being breaked\n",
      "            if ceil(amount/100.0) <= page:\n",
      "                break\n",
      "            page += 1\n",
      "            print 'Going to page %d' %page\n",
      "            t2 = datetime.now()\n",
      "\n",
      "            # if it was quickier than 1/30 seconds, wait to call again\n",
      "            delta = (t2 - t1)\n",
      "            if (delta.microseconds < 34.000):\n",
      "                time.sleep( (1/30.0) - delta.microseconds*1000)\n",
      "\n",
      "            # check if there was the backoff message and wait\n",
      "            if d.has_key('backoff'):\n",
      "                time.sleep(d['backoff'])\n",
      "        else:\n",
      "            break\n",
      "    return ret"
     ],
     "language": "python",
     "metadata": {},
     "outputs": [],
     "prompt_number": 7
    },
    {
     "cell_type": "code",
     "collapsed": false,
     "input": [
      "#and then, top 50k in reputation to a file\n",
      "users = get_users(amount= 50000)\n",
      "users.to_csv('users_50k.csv', index=False, encoding='utf-8')"
     ],
     "language": "python",
     "metadata": {},
     "outputs": []
    },
    {
     "cell_type": "markdown",
     "metadata": {},
     "source": [
      "The API gives a limit of 10k per day, 100 records per call. That is a max of 1,000,000 per day. Ok, right?"
     ]
    },
    {
     "cell_type": "code",
     "collapsed": false,
     "input": [
      "users = pd.read_csv('users_50k.csv', encoding='utf-8', verbose=True)\n",
      "users.shape"
     ],
     "language": "python",
     "metadata": {},
     "outputs": [
      {
       "output_type": "stream",
       "stream": "stdout",
       "text": [
        "Tokenization took: 51.43 ms\n",
        "Type conversion took: 196.68 ms"
       ]
      },
      {
       "output_type": "stream",
       "stream": "stdout",
       "text": [
        "\n",
        "Parser memory cleanup took: 0.12 ms\n",
        "Tokenization took: 17.94 ms\n",
        "Type conversion took: 78.40 ms"
       ]
      },
      {
       "output_type": "stream",
       "stream": "stdout",
       "text": [
        "\n",
        "Parser memory cleanup took: 0.01 ms\n"
       ]
      },
      {
       "metadata": {},
       "output_type": "pyout",
       "prompt_number": 30,
       "text": [
        "(50000, 21)"
       ]
      }
     ],
     "prompt_number": 30
    },
    {
     "cell_type": "code",
     "collapsed": false,
     "input": [
      "print users.columns\n",
      "users.head()"
     ],
     "language": "python",
     "metadata": {},
     "outputs": [
      {
       "output_type": "stream",
       "stream": "stdout",
       "text": [
        "Index([u'accept_rate', u'account_id', u'age', u'badge_counts', u'creation_date', u'display_name', u'is_employee', u'last_access_date', u'last_modified_date', u'link', u'location', u'profile_image', u'reputation', u'reputation_change_day', u'reputation_change_month', u'reputation_change_quarter', u'reputation_change_week', u'reputation_change_year', u'user_id', u'user_type', u'website_url'], dtype='object')\n"
       ]
      },
      {
       "html": [
        "<div style=\"max-height:1000px;max-width:1500px;overflow:auto;\">\n",
        "<table border=\"1\" class=\"dataframe\">\n",
        "  <thead>\n",
        "    <tr style=\"text-align: right;\">\n",
        "      <th></th>\n",
        "      <th>accept_rate</th>\n",
        "      <th>account_id</th>\n",
        "      <th>age</th>\n",
        "      <th>badge_counts</th>\n",
        "      <th>creation_date</th>\n",
        "      <th>display_name</th>\n",
        "      <th>is_employee</th>\n",
        "      <th>last_access_date</th>\n",
        "      <th>last_modified_date</th>\n",
        "      <th>link</th>\n",
        "      <th>...</th>\n",
        "      <th>profile_image</th>\n",
        "      <th>reputation</th>\n",
        "      <th>reputation_change_day</th>\n",
        "      <th>reputation_change_month</th>\n",
        "      <th>reputation_change_quarter</th>\n",
        "      <th>reputation_change_week</th>\n",
        "      <th>reputation_change_year</th>\n",
        "      <th>user_id</th>\n",
        "      <th>user_type</th>\n",
        "      <th>website_url</th>\n",
        "    </tr>\n",
        "  </thead>\n",
        "  <tbody>\n",
        "    <tr>\n",
        "      <th>0</th>\n",
        "      <td> 85</td>\n",
        "      <td> 11683</td>\n",
        "      <td> 38</td>\n",
        "      <td> {u'gold': 296, u'silver': 4619, u'bronze': 5982}</td>\n",
        "      <td> 1222430705</td>\n",
        "      <td>      Jon Skeet</td>\n",
        "      <td> False</td>\n",
        "      <td> 1410636911</td>\n",
        "      <td> 1410588133</td>\n",
        "      <td>    http://stackoverflow.com/users/22656/jon-skeet</td>\n",
        "      <td>...</td>\n",
        "      <td> https://www.gravatar.com/avatar/6d8ebb117e8d83...</td>\n",
        "      <td> 709229</td>\n",
        "      <td> 230</td>\n",
        "      <td> 3470</td>\n",
        "      <td> 21448</td>\n",
        "      <td> 1835</td>\n",
        "      <td> 74417</td>\n",
        "      <td>  22656</td>\n",
        "      <td> registered</td>\n",
        "      <td>                          http://csharpindepth.com</td>\n",
        "    </tr>\n",
        "    <tr>\n",
        "      <th>1</th>\n",
        "      <td> 91</td>\n",
        "      <td> 14332</td>\n",
        "      <td> 33</td>\n",
        "      <td>  {u'gold': 70, u'silver': 1675, u'bronze': 1809}</td>\n",
        "      <td> 1224432467</td>\n",
        "      <td> Darin Dimitrov</td>\n",
        "      <td> False</td>\n",
        "      <td> 1410640322</td>\n",
        "      <td> 1410106632</td>\n",
        "      <td> http://stackoverflow.com/users/29407/darin-dim...</td>\n",
        "      <td>...</td>\n",
        "      <td> https://www.gravatar.com/avatar/e3a181e9cdd475...</td>\n",
        "      <td> 539613</td>\n",
        "      <td> 125</td>\n",
        "      <td> 2500</td>\n",
        "      <td> 14576</td>\n",
        "      <td> 1370</td>\n",
        "      <td> 53134</td>\n",
        "      <td>  29407</td>\n",
        "      <td> registered</td>\n",
        "      <td> http://stackoverflow.com/search?q=user%3a29407...</td>\n",
        "    </tr>\n",
        "    <tr>\n",
        "      <th>2</th>\n",
        "      <td> 92</td>\n",
        "      <td> 52822</td>\n",
        "      <td> 36</td>\n",
        "      <td> {u'gold': 113, u'silver': 1490, u'bronze': 1822}</td>\n",
        "      <td> 1250527322</td>\n",
        "      <td>         BalusC</td>\n",
        "      <td> False</td>\n",
        "      <td> 1410641505</td>\n",
        "      <td> 1410588436</td>\n",
        "      <td>      http://stackoverflow.com/users/157882/balusc</td>\n",
        "      <td>...</td>\n",
        "      <td> https://www.gravatar.com/avatar/89927e2f4bde24...</td>\n",
        "      <td> 508539</td>\n",
        "      <td> 200</td>\n",
        "      <td> 3119</td>\n",
        "      <td> 17969</td>\n",
        "      <td> 1600</td>\n",
        "      <td> 59846</td>\n",
        "      <td> 157882</td>\n",
        "      <td> registered</td>\n",
        "      <td>                        http://balusc.blogspot.com</td>\n",
        "    </tr>\n",
        "    <tr>\n",
        "      <th>3</th>\n",
        "      <td> 88</td>\n",
        "      <td> 11975</td>\n",
        "      <td> 36</td>\n",
        "      <td>  {u'gold': 96, u'silver': 1312, u'bronze': 1844}</td>\n",
        "      <td> 1222667162</td>\n",
        "      <td>   Marc Gravell</td>\n",
        "      <td>  True</td>\n",
        "      <td> 1410623625</td>\n",
        "      <td> 1410588133</td>\n",
        "      <td> http://stackoverflow.com/users/23354/marc-gravell</td>\n",
        "      <td>...</td>\n",
        "      <td>      http://i.stack.imgur.com/NJcqr.png?s=128&amp;g=1</td>\n",
        "      <td> 492222</td>\n",
        "      <td>  88</td>\n",
        "      <td> 2853</td>\n",
        "      <td> 15291</td>\n",
        "      <td> 1463</td>\n",
        "      <td> 51144</td>\n",
        "      <td>  23354</td>\n",
        "      <td>  moderator</td>\n",
        "      <td>                       http://blog.marcgravell.com</td>\n",
        "    </tr>\n",
        "    <tr>\n",
        "      <th>4</th>\n",
        "      <td>NaN</td>\n",
        "      <td>  9266</td>\n",
        "      <td>NaN</td>\n",
        "      <td>    {u'gold': 50, u'silver': 500, u'bronze': 991}</td>\n",
        "      <td> 1221698729</td>\n",
        "      <td>   Hans Passant</td>\n",
        "      <td> False</td>\n",
        "      <td> 1410638169</td>\n",
        "      <td> 1410621323</td>\n",
        "      <td> http://stackoverflow.com/users/17034/hans-passant</td>\n",
        "      <td>...</td>\n",
        "      <td>      http://i.stack.imgur.com/Cii6b.png?s=128&amp;g=1</td>\n",
        "      <td> 485630</td>\n",
        "      <td> 241</td>\n",
        "      <td> 3384</td>\n",
        "      <td> 19224</td>\n",
        "      <td> 1761</td>\n",
        "      <td> 70330</td>\n",
        "      <td>  17034</td>\n",
        "      <td> registered</td>\n",
        "      <td>                                               NaN</td>\n",
        "    </tr>\n",
        "  </tbody>\n",
        "</table>\n",
        "<p>5 rows \u00d7 21 columns</p>\n",
        "</div>"
       ],
       "metadata": {},
       "output_type": "pyout",
       "prompt_number": 13,
       "text": [
        "   accept_rate  account_id  age  \\\n",
        "0           85       11683   38   \n",
        "1           91       14332   33   \n",
        "2           92       52822   36   \n",
        "3           88       11975   36   \n",
        "4          NaN        9266  NaN   \n",
        "\n",
        "                                       badge_counts  creation_date  \\\n",
        "0  {u'gold': 296, u'silver': 4619, u'bronze': 5982}     1222430705   \n",
        "1   {u'gold': 70, u'silver': 1675, u'bronze': 1809}     1224432467   \n",
        "2  {u'gold': 113, u'silver': 1490, u'bronze': 1822}     1250527322   \n",
        "3   {u'gold': 96, u'silver': 1312, u'bronze': 1844}     1222667162   \n",
        "4     {u'gold': 50, u'silver': 500, u'bronze': 991}     1221698729   \n",
        "\n",
        "     display_name is_employee  last_access_date  last_modified_date  \\\n",
        "0       Jon Skeet       False        1410636911          1410588133   \n",
        "1  Darin Dimitrov       False        1410640322          1410106632   \n",
        "2          BalusC       False        1410641505          1410588436   \n",
        "3    Marc Gravell        True        1410623625          1410588133   \n",
        "4    Hans Passant       False        1410638169          1410621323   \n",
        "\n",
        "                                                link  \\\n",
        "0     http://stackoverflow.com/users/22656/jon-skeet   \n",
        "1  http://stackoverflow.com/users/29407/darin-dim...   \n",
        "2       http://stackoverflow.com/users/157882/balusc   \n",
        "3  http://stackoverflow.com/users/23354/marc-gravell   \n",
        "4  http://stackoverflow.com/users/17034/hans-passant   \n",
        "\n",
        "                         ...                          \\\n",
        "0                        ...                           \n",
        "1                        ...                           \n",
        "2                        ...                           \n",
        "3                        ...                           \n",
        "4                        ...                           \n",
        "\n",
        "                                       profile_image reputation  \\\n",
        "0  https://www.gravatar.com/avatar/6d8ebb117e8d83...     709229   \n",
        "1  https://www.gravatar.com/avatar/e3a181e9cdd475...     539613   \n",
        "2  https://www.gravatar.com/avatar/89927e2f4bde24...     508539   \n",
        "3       http://i.stack.imgur.com/NJcqr.png?s=128&g=1     492222   \n",
        "4       http://i.stack.imgur.com/Cii6b.png?s=128&g=1     485630   \n",
        "\n",
        "   reputation_change_day  reputation_change_month  reputation_change_quarter  \\\n",
        "0                    230                     3470                      21448   \n",
        "1                    125                     2500                      14576   \n",
        "2                    200                     3119                      17969   \n",
        "3                     88                     2853                      15291   \n",
        "4                    241                     3384                      19224   \n",
        "\n",
        "   reputation_change_week  reputation_change_year  user_id   user_type  \\\n",
        "0                    1835                   74417    22656  registered   \n",
        "1                    1370                   53134    29407  registered   \n",
        "2                    1600                   59846   157882  registered   \n",
        "3                    1463                   51144    23354   moderator   \n",
        "4                    1761                   70330    17034  registered   \n",
        "\n",
        "                                         website_url  \n",
        "0                           http://csharpindepth.com  \n",
        "1  http://stackoverflow.com/search?q=user%3a29407...  \n",
        "2                         http://balusc.blogspot.com  \n",
        "3                        http://blog.marcgravell.com  \n",
        "4                                                NaN  \n",
        "\n",
        "[5 rows x 21 columns]"
       ]
      }
     ],
     "prompt_number": 13
    },
    {
     "cell_type": "markdown",
     "metadata": {},
     "source": [
      "### A little about the users"
     ]
    },
    {
     "cell_type": "markdown",
     "metadata": {},
     "source": [
      "Analysing a little the 50k top users. \n",
      "\n",
      "- most of the fields change with their use. Some of them could give good current statistics as reputation_change_xxx\n",
      "- fixed fields: account_id, user_id\n",
      "- almost fixed: age, display_name, is_employee, user_type"
     ]
    },
    {
     "cell_type": "code",
     "collapsed": false,
     "input": [
      "# histogram of users age\n",
      "users.age[users.age.isnull()]= -1\n",
      "plt.hist(users.age,20)"
     ],
     "language": "python",
     "metadata": {},
     "outputs": [
      {
       "metadata": {},
       "output_type": "pyout",
       "prompt_number": 27,
       "text": [
        "(array([  2.11910000e+04,   0.00000000e+00,   7.00000000e+00,\n",
        "          1.31000000e+02,   1.16100000e+03,   6.82600000e+03,\n",
        "          8.83100000e+03,   5.12500000e+03,   3.56600000e+03,\n",
        "          1.82100000e+03,   7.20000000e+02,   2.30000000e+02,\n",
        "          1.28000000e+02,   4.80000000e+01,   1.40000000e+01,\n",
        "          1.40000000e+01,   6.00000000e+00,   1.00000000e+00,\n",
        "          7.00000000e+00,   1.73000000e+02]),\n",
        " array([ -1.  ,   3.75,   8.5 ,  13.25,  18.  ,  22.75,  27.5 ,  32.25,\n",
        "         37.  ,  41.75,  46.5 ,  51.25,  56.  ,  60.75,  65.5 ,  70.25,\n",
        "         75.  ,  79.75,  84.5 ,  89.25,  94.  ]),\n",
        " <a list of 20 Patch objects>)"
       ]
      },
      {
       "metadata": {},
       "output_type": "display_data",
       "png": "[encoded data removed]",
       "text": [
        "<matplotlib.figure.Figure at 0x10fa78b90>"
       ]
      }
     ],
     "prompt_number": 27
    },
    {
     "cell_type": "code",
     "collapsed": false,
     "input": [
      "users.location[users.location.isnull()]= 'Unk'\n",
      "users.groupby('location')['user_id'].count().sort(ascending=False, inplace =False)[1:10].plot(kind='bar')"
     ],
     "language": "python",
     "metadata": {},
     "outputs": [
      {
       "metadata": {},
       "output_type": "pyout",
       "prompt_number": 40,
       "text": [
        "<matplotlib.axes.AxesSubplot at 0x10c08ee90>"
       ]
      },
      {
       "metadata": {},
       "output_type": "display_data",
       "png": "[encoded data removed]",
       "text": [
        "<matplotlib.figure.Figure at 0x10bec11d0>"
       ]
      }
     ],
     "prompt_number": 40
    },
    {
     "cell_type": "markdown",
     "metadata": {},
     "source": [
      "Conclusions:\n",
      "\n",
      "- info is not normalized and not required in most fields\n",
      "- may use website and description for getting more knowledge about the user\n",
      "- may use reputation changes to update users/as a feature for group selection"
     ]
    },
    {
     "cell_type": "markdown",
     "metadata": {},
     "source": [
      "### The Tags and users"
     ]
    },
    {
     "cell_type": "markdown",
     "metadata": {},
     "source": [
      "To me, it seemed clear that the tags are the most normalized data on Stack Overflow and that could help me classify users and information. So, as a test set, I could get the tags of only the top 50k users. "
     ]
    },
    {
     "cell_type": "code",
     "collapsed": false,
     "input": [
      "def dprint(msg, time=None):\n",
      "    ''' Helper function to print date before msg '''\n",
      "    if not time:\n",
      "        time = datetime.now()\n",
      "    print '{} - {}'.format(time.strftime('%Y-%m-%d %H:%M:%S'), msg)\n",
      "    \n",
      "def get_users_tags( p_client_list=None, p_amount=100,\n",
      "                       first_client=1, cli_amount=100):\n",
      "        '''\n",
      "        Get the users tags. A list of user can be passed or a list of\n",
      "        sequencial ids can be generated as the list of users.\n",
      "\n",
      "        Params:\n",
      "            :p_client_list(list, optional): list of users\n",
      "            :p_amount(int, optional): the number of rows to be brought\n",
      "            :first_client(int, optional): first id to be generated\n",
      "            :cli_amount(int, optional): number of ids to be generated\n",
      "        '''\n",
      "        # create the url\n",
      "        site = '&site=stackoverflow'\n",
      "        key = '&key=' + 'XuUgyTQEsGuu1avMOxxnRw(('\n",
      "        suffix = site+key\n",
      "        prefix = 'http://api.stackexchange.com/2.2/'\n",
      "        url = prefix+'users/{}/tags?order=desc&sort=popular'+suffix\n",
      "\n",
      "        # users list\n",
      "        id_str = ''\n",
      "        if not p_client_list:\n",
      "            p_client_list = range(first_client, first_client+cli_amount)\n",
      "        for i in p_client_list:\n",
      "            id_str += str(i) + ';'\n",
      "        id_str = id_str[:-1]\n",
      "        url = url.format(id_str)\n",
      "\n",
      "        # get info\n",
      "        return get_all_rows(url, p_amount)\n",
      "    \n",
      "# more generic function to fetch stack api rows\n",
      "def get_all_rows(p_url, p_amount, p_pagesize=100, p_verbose=True):\n",
      "        '''\n",
      "        Fetch all rows. Takes care of the 30 call per second and the backoff\n",
      "        command send by SO\n",
      "\n",
      "        :param\n",
      "        :p_url(str): the url that will be called over and over.\n",
      "            It should not contain page param, as it will be appended\n",
      "        :p_amount(int): the amount of information (rows) that should be\n",
      "            retrieved\n",
      "        :p_pagesize(int, optional): the amount of info that will be fetch in\n",
      "            each page.\n",
      "        :return: dataframe with info\n",
      "        '''\n",
      "        # initial info\n",
      "        page_size = '&pagesize='+str(p_pagesize)\n",
      "        page =1\n",
      "\n",
      "        # while there is data\n",
      "        first = True\n",
      "        ret = None\n",
      "        quota = 0\n",
      "        while True:\n",
      "            t1 = datetime.now()\n",
      "            response = requests.get(p_url+page_size+'&page='+str(page))\n",
      "            d= response.json()\n",
      "            if first:\n",
      "                ret = pd.DataFrame(d['items'])\n",
      "                first = not first\n",
      "            else:\n",
      "                ret = pd.concat([ret,pd.DataFrame(d['items'])])\n",
      "            quota = d['quota_remaining']\n",
      "\n",
      "            # check if there is more\n",
      "            if d['has_more']:\n",
      "                # check if there is a limit and it if was braked\n",
      "                if p_amount and ceil(p_amount/100.0) <= page:\n",
      "                    break\n",
      "                page += 1\n",
      "                dprint('Going to page %d' %page)\n",
      "                t2 = datetime.now()\n",
      "\n",
      "                # if it was quickier than 1/30 seconds, wait to call again\n",
      "                delta = (t2 - t1)\n",
      "                if (delta.microseconds < 34.000):\n",
      "                    time.sleep( (1/30.0) - delta.microseconds*1000)\n",
      "\n",
      "                # check if there was the backoff message and wait\n",
      "                if d.has_key('backoff'):\n",
      "                    dprint('Backing off %d' %d['backoff'])\n",
      "                    time.sleep(d['backoff'])\n",
      "            else:\n",
      "                break\n",
      "\n",
      "        if p_verbose:\n",
      "            dprint('Quota_remaining: %d' %quota)\n",
      "\n",
      "        return ret\n"
     ],
     "language": "python",
     "metadata": {},
     "outputs": [],
     "prompt_number": 49
    },
    {
     "cell_type": "markdown",
     "metadata": {},
     "source": [
      "The most active users have a really ridicously amount of tags. Getting the famous Jon Skeet as example:"
     ]
    },
    {
     "cell_type": "code",
     "collapsed": false,
     "input": [
      "# bring all his tags\n",
      "tags = get_users_tags([22656], p_amount=None)"
     ],
     "language": "python",
     "metadata": {},
     "outputs": [
      {
       "output_type": "stream",
       "stream": "stdout",
       "text": [
        "2014-10-06 11:39:05 - Going to page 2\n",
        "2014-10-06 11:39:06 - Going to page 3"
       ]
      },
      {
       "output_type": "stream",
       "stream": "stdout",
       "text": [
        "\n",
        "2014-10-06 11:39:07 - Going to page 4"
       ]
      },
      {
       "output_type": "stream",
       "stream": "stdout",
       "text": [
        "\n",
        "2014-10-06 11:39:08 - Going to page 5"
       ]
      },
      {
       "output_type": "stream",
       "stream": "stdout",
       "text": [
        "\n",
        "2014-10-06 11:39:09 - Going to page 6"
       ]
      },
      {
       "output_type": "stream",
       "stream": "stdout",
       "text": [
        "\n",
        "2014-10-06 11:39:10 - Going to page 7"
       ]
      },
      {
       "output_type": "stream",
       "stream": "stdout",
       "text": [
        "\n",
        "2014-10-06 11:39:11 - Going to page 8"
       ]
      },
      {
       "output_type": "stream",
       "stream": "stdout",
       "text": [
        "\n",
        "2014-10-06 11:39:12 - Going to page 9"
       ]
      },
      {
       "output_type": "stream",
       "stream": "stdout",
       "text": [
        "\n",
        "2014-10-06 11:39:14 - Going to page 10"
       ]
      },
      {
       "output_type": "stream",
       "stream": "stdout",
       "text": [
        "\n",
        "2014-10-06 11:39:15 - Going to page 11"
       ]
      },
      {
       "output_type": "stream",
       "stream": "stdout",
       "text": [
        "\n",
        "2014-10-06 11:39:16 - Going to page 12"
       ]
      },
      {
       "output_type": "stream",
       "stream": "stdout",
       "text": [
        "\n",
        "2014-10-06 11:39:17 - Going to page 13"
       ]
      },
      {
       "output_type": "stream",
       "stream": "stdout",
       "text": [
        "\n",
        "2014-10-06 11:39:18 - Going to page 14"
       ]
      },
      {
       "output_type": "stream",
       "stream": "stdout",
       "text": [
        "\n",
        "2014-10-06 11:39:19 - Going to page 15"
       ]
      },
      {
       "output_type": "stream",
       "stream": "stdout",
       "text": [
        "\n",
        "2014-10-06 11:39:20 - Going to page 16"
       ]
      },
      {
       "output_type": "stream",
       "stream": "stdout",
       "text": [
        "\n",
        "2014-10-06 11:39:21 - Going to page 17"
       ]
      },
      {
       "output_type": "stream",
       "stream": "stdout",
       "text": [
        "\n",
        "2014-10-06 11:39:22 - Going to page 18"
       ]
      },
      {
       "output_type": "stream",
       "stream": "stdout",
       "text": [
        "\n",
        "2014-10-06 11:39:23 - Going to page 19"
       ]
      },
      {
       "output_type": "stream",
       "stream": "stdout",
       "text": [
        "\n",
        "2014-10-06 11:39:24 - Going to page 20"
       ]
      },
      {
       "output_type": "stream",
       "stream": "stdout",
       "text": [
        "\n",
        "2014-10-06 11:39:26 - Going to page 21"
       ]
      },
      {
       "output_type": "stream",
       "stream": "stdout",
       "text": [
        "\n",
        "2014-10-06 11:39:27 - Going to page 22"
       ]
      },
      {
       "output_type": "stream",
       "stream": "stdout",
       "text": [
        "\n",
        "2014-10-06 11:39:28 - Going to page 23"
       ]
      },
      {
       "output_type": "stream",
       "stream": "stdout",
       "text": [
        "\n",
        "2014-10-06 11:39:29 - Going to page 24"
       ]
      },
      {
       "output_type": "stream",
       "stream": "stdout",
       "text": [
        "\n",
        "2014-10-06 11:39:31 - Going to page 25"
       ]
      },
      {
       "output_type": "stream",
       "stream": "stdout",
       "text": [
        "\n",
        "2014-10-06 11:39:32 - Going to page 26"
       ]
      },
      {
       "output_type": "stream",
       "stream": "stdout",
       "text": [
        "\n",
        "2014-10-06 11:39:32 - Backing off 10\n",
        "2014-10-06 11:39:43 - Going to page 27"
       ]
      },
      {
       "output_type": "stream",
       "stream": "stdout",
       "text": [
        "\n",
        "2014-10-06 11:39:45 - Going to page 28"
       ]
      },
      {
       "output_type": "stream",
       "stream": "stdout",
       "text": [
        "\n",
        "2014-10-06 11:39:45 - Backing off 10\n",
        "2014-10-06 11:39:57 - Going to page 29"
       ]
      },
      {
       "output_type": "stream",
       "stream": "stdout",
       "text": [
        "\n",
        "2014-10-06 11:39:58 - Going to page 30"
       ]
      },
      {
       "output_type": "stream",
       "stream": "stdout",
       "text": [
        "\n",
        "2014-10-06 11:39:59 - Going to page 31"
       ]
      },
      {
       "output_type": "stream",
       "stream": "stdout",
       "text": [
        "\n",
        "2014-10-06 11:40:00 - Going to page 32"
       ]
      },
      {
       "output_type": "stream",
       "stream": "stdout",
       "text": [
        "\n",
        "2014-10-06 11:40:02 - Going to page 33"
       ]
      },
      {
       "output_type": "stream",
       "stream": "stdout",
       "text": [
        "\n",
        "2014-10-06 11:40:03 - Going to page 34"
       ]
      },
      {
       "output_type": "stream",
       "stream": "stdout",
       "text": [
        "\n",
        "2014-10-06 11:40:05 - Going to page 35"
       ]
      },
      {
       "output_type": "stream",
       "stream": "stdout",
       "text": [
        "\n",
        "2014-10-06 11:40:06 - Going to page 36"
       ]
      },
      {
       "output_type": "stream",
       "stream": "stdout",
       "text": [
        "\n",
        "2014-10-06 11:40:07 - Going to page 37"
       ]
      },
      {
       "output_type": "stream",
       "stream": "stdout",
       "text": [
        "\n",
        "2014-10-06 11:40:08 - Going to page 38"
       ]
      },
      {
       "output_type": "stream",
       "stream": "stdout",
       "text": [
        "\n",
        "2014-10-06 11:40:09 - Going to page 39"
       ]
      },
      {
       "output_type": "stream",
       "stream": "stdout",
       "text": [
        "\n",
        "2014-10-06 11:40:10 - Going to page 40"
       ]
      },
      {
       "output_type": "stream",
       "stream": "stdout",
       "text": [
        "\n",
        "2014-10-06 11:40:12 - Going to page 41"
       ]
      },
      {
       "output_type": "stream",
       "stream": "stdout",
       "text": [
        "\n",
        "2014-10-06 11:40:13 - Going to page 42"
       ]
      },
      {
       "output_type": "stream",
       "stream": "stdout",
       "text": [
        "\n",
        "2014-10-06 11:40:14 - Going to page 43"
       ]
      },
      {
       "output_type": "stream",
       "stream": "stdout",
       "text": [
        "\n",
        "2014-10-06 11:40:15 - Going to page 44"
       ]
      },
      {
       "output_type": "stream",
       "stream": "stdout",
       "text": [
        "\n",
        "2014-10-06 11:40:17 - Going to page 45"
       ]
      },
      {
       "output_type": "stream",
       "stream": "stdout",
       "text": [
        "\n",
        "2014-10-06 11:40:18 - Quota_remaining: 9949"
       ]
      },
      {
       "output_type": "stream",
       "stream": "stdout",
       "text": [
        "\n"
       ]
      }
     ],
     "prompt_number": 53
    },
    {
     "cell_type": "code",
     "collapsed": false,
     "input": [
      "tags.count()"
     ],
     "language": "python",
     "metadata": {},
     "outputs": [
      {
       "metadata": {},
       "output_type": "pyout",
       "prompt_number": 55,
       "text": [
        "count                                                            86512\n",
        "has_synonyms                                                       791\n",
        "is_moderator_only                                                False\n",
        "is_required                                                      False\n",
        "name                 c#java.netlinqgenericsasp.netxmlmultithreading...\n",
        "user_id                                                       99844992\n",
        "dtype: object"
       ]
      }
     ],
     "prompt_number": 55
    },
    {
     "cell_type": "code",
     "collapsed": false,
     "input": [
      "# he cannot have so many points in all of them. \n",
      "tags.groupby(['name'])['count'].sum().sort(ascending=False, inplace =False).plot(linewidth=5)"
     ],
     "language": "python",
     "metadata": {},
     "outputs": [
      {
       "metadata": {},
       "output_type": "pyout",
       "prompt_number": 75,
       "text": [
        "<matplotlib.axes.AxesSubplot at 0x1201f0d10>"
       ]
      },
      {
       "metadata": {},
       "output_type": "display_data",
       "png": "[encoded data removed]",
       "text": [
        "<matplotlib.figure.Figure at 0x11f8cfd50>"
       ]
      }
     ],
     "prompt_number": 75
    },
    {
     "cell_type": "code",
     "collapsed": false,
     "input": [
      "# soooo, even him is not that good in ALL the tags he has. the top 10 maybe? Got you, Jon Skeet\n",
      "tags.groupby(['name'])['count'].sum()[0:10].sort(ascending=False, inplace =False).plot(kind='area', linewidth=5)"
     ],
     "language": "python",
     "metadata": {},
     "outputs": [
      {
       "metadata": {},
       "output_type": "pyout",
       "prompt_number": 77,
       "text": [
        "<matplotlib.axes.AxesSubplot at 0x1205dc610>"
       ]
      },
      {
       "metadata": {},
       "output_type": "display_data",
       "png": "[encoded data removed]",
       "text": [
        "<matplotlib.figure.Figure at 0x11f7152d0>"
       ]
      }
     ],
     "prompt_number": 77
    },
    {
     "cell_type": "markdown",
     "metadata": {},
     "source": [
      "The conclusion is that nobody knows everything. So, as I can get for each user in a page 100 tags, I'll do it."
     ]
    },
    {
     "cell_type": "markdown",
     "metadata": {},
     "source": [
      "### The tags - generally speaking"
     ]
    },
    {
     "cell_type": "markdown",
     "metadata": {},
     "source": [
      "Getting tags for the first 50k users, I saved them in files (each day I could get only 10k users, but I did not do it, as I needed some calls to test other stuff) and another analysis could be made."
     ]
    },
    {
     "cell_type": "code",
     "collapsed": false,
     "input": [
      "files = glob('../Data/tags_top*.csv')\n",
      "tags = None\n",
      "for f in files:\n",
      "    df = pd.read_csv(f)\n",
      "    if isinstance(tags, pd.DataFrame ):   \n",
      "        tags = pd.concat([tags, df])\n",
      "    else:\n",
      "        tags = df"
     ],
     "language": "python",
     "metadata": {},
     "outputs": [],
     "prompt_number": 39
    },
    {
     "cell_type": "code",
     "collapsed": false,
     "input": [
      "print 'total tags', tags.shape\n",
      "print 'unique tags', len(tags.name.unique())\n",
      "print 'unique users', len(tags.user_id.unique())"
     ],
     "language": "python",
     "metadata": {},
     "outputs": [
      {
       "output_type": "stream",
       "stream": "stdout",
       "text": [
        " total tags (3401707, 6)\n",
        "unique tags "
       ]
      },
      {
       "output_type": "stream",
       "stream": "stdout",
       "text": [
        "33195\n",
        "unique users 37114\n"
       ]
      }
     ],
     "prompt_number": 54
    },
    {
     "cell_type": "code",
     "collapsed": false,
     "input": [
      "# the relevancy of tags by points\n",
      "tags.groupby(['name'])['count'].sum().sort(ascending=False, inplace =False).plot(linewidth=5)"
     ],
     "language": "python",
     "metadata": {},
     "outputs": [
      {
       "metadata": {},
       "output_type": "pyout",
       "prompt_number": 41,
       "text": [
        "<matplotlib.axes.AxesSubplot at 0x10f9aa150>"
       ]
      },
      {
       "metadata": {},
       "output_type": "display_data",
       "png": "[encoded data removed]",
       "text": [
        "<matplotlib.figure.Figure at 0x10d59b3d0>"
       ]
      }
     ],
     "prompt_number": 41
    },
    {
     "cell_type": "code",
     "collapsed": false,
     "input": [
      "# maybe the top 1000, by points\n",
      "tags_count = tags.groupby(['name'])['count'].sum().sort(ascending=False, inplace =False)\n",
      "print tags_count[0:20]\n",
      "tags_count[1:1000].plot(linewidth=5, kind='area')"
     ],
     "language": "python",
     "metadata": {},
     "outputs": [
      {
       "output_type": "stream",
       "stream": "stdout",
       "text": [
        "name\n",
        "c#               954727\n",
        "java             873492\n",
        "javascript       762801\n",
        "php              663538\n",
        "jquery           582558\n",
        "c++              498710\n",
        "python           424011\n",
        "android          416965\n",
        "html             359738\n",
        "sql              321198\n",
        ".net             316191\n",
        "mysql            303539\n",
        "asp.net          266416\n",
        "css              263286\n",
        "c                252814\n",
        "iphone           226407\n",
        "ios              220281\n",
        "objective-c      217254\n",
        "ruby-on-rails    181013\n",
        "regex            163484\n",
        "Name: count, dtype: int64\n"
       ]
      },
      {
       "metadata": {},
       "output_type": "pyout",
       "prompt_number": 49,
       "text": [
        "<matplotlib.axes.AxesSubplot at 0x11153ddd0>"
       ]
      },
      {
       "metadata": {},
       "output_type": "display_data",
       "png": "[encoded data removed]",
       "text": [
        "<matplotlib.figure.Figure at 0x10f13cf50>"
       ]
      }
     ],
     "prompt_number": 49
    },
    {
     "cell_type": "code",
     "collapsed": false,
     "input": [
      "# top 1000, by users\n",
      "tags_users_count = tags.groupby(['name'])['user_id'].count()\n",
      "print tags_users_count.sort(ascending=False, inplace =False)[1:20]\n",
      "print tags_users_count.sort(ascending=False, inplace =False)[980:1000]\n",
      "tags.groupby(['name'])['user_id'].count().sort(ascending=False, inplace =False)[1:1000].plot(linewidth=5, kind='area')"
     ],
     "language": "python",
     "metadata": {},
     "outputs": [
      {
       "output_type": "stream",
       "stream": "stdout",
       "text": [
        "name\n",
        "html           22033\n",
        "java           21791\n",
        "c#             19591\n",
        "php            19542\n",
        "jquery         19254\n",
        "sql            18836\n",
        "arrays         18627\n",
        "string         18159\n",
        "mysql          17869\n",
        "regex          16811\n",
        "css            16636\n",
        "database       16285\n",
        "xml            15708\n",
        "performance    15668\n",
        "json           14837\n",
        ".net           14758\n",
        "c++            14114\n",
        "python         13647\n",
        "ajax           13410\n",
        "Name: user_id, dtype: int64\n",
        "name\n",
        "theory                  602\n",
        "xcode5                  599\n",
        "mouseevent              599\n",
        "containers              598\n",
        "log4net                 597\n",
        "http-status-code-404    596\n",
        "scheduled-tasks         595\n",
        "metadata                594\n",
        "settimeout              593\n",
        "equals                  593\n",
        "pass-by-reference       592\n",
        "protocols               591\n",
        "buffer                  591\n",
        "c++-cli                 591\n",
        "distinct                590\n",
        "memory-allocation       590\n",
        "sql-server-ce           589\n",
        "viewmodel               589\n",
        "inline                  588\n",
        "uialertview             587\n",
        "Name: user_id, dtype: int64\n"
       ]
      },
      {
       "metadata": {},
       "output_type": "pyout",
       "prompt_number": 59,
       "text": [
        "<matplotlib.axes.AxesSubplot at 0x110cc23d0>"
       ]
      },
      {
       "metadata": {},
       "output_type": "display_data",
       "png": "[encoded data removed]",
       "text": [
        "<matplotlib.figure.Figure at 0x10f003910>"
       ]
      }
     ],
     "prompt_number": 59
    },
    {
     "cell_type": "code",
     "collapsed": false,
     "input": [
      "# there is a difference between the amount of users and the amount of points they make for the tags. Which tags give more points?\n",
      "tags_count = pd.merge(tags.groupby(['name'])['user_id'].count().reset_index(), \n",
      "                      tags.groupby(['name'])['count'].sum().reset_index(),\n",
      "                      on='name')\n",
      "tags_count['ratio'] = tags_count['count']/tags_count['user_id']"
     ],
     "language": "python",
     "metadata": {},
     "outputs": [],
     "prompt_number": 44
    },
    {
     "cell_type": "code",
     "collapsed": false,
     "input": [
      "print tags_count.groupby(['name'])['ratio'].sum().sort(ascending=False, inplace =False)[1:15]\n",
      "tags_count.groupby(['name'])['ratio'].sum().sort(ascending=False, inplace =False)[1:1000].plot(linewidth=5, kind='area')"
     ],
     "language": "python",
     "metadata": {},
     "outputs": [
      {
       "output_type": "stream",
       "stream": "stdout",
       "text": [
        "name\n",
        "c4               71.000000\n",
        "xpages           63.394737\n",
        "tridion          59.896552\n",
        "atk4             58.750000\n",
        "r                55.302508\n",
        "docusign         53.666667\n",
        "rally            48.736842\n",
        "c#               48.732939\n",
        "worklight        47.857143\n",
        "livecode         46.000000\n",
        "java             40.084989\n",
        "clearcase-ucm    39.875000\n",
        "spring-saml      38.000000\n",
        "delphi           37.581835\n",
        "Name: ratio, dtype: float64\n"
       ]
      },
      {
       "metadata": {},
       "output_type": "pyout",
       "prompt_number": 46,
       "text": [
        "<matplotlib.axes.AxesSubplot at 0x10d76f5d0>"
       ]
      },
      {
       "metadata": {},
       "output_type": "display_data",
       "png": "[encoded data removed]",
       "text": [
        "<matplotlib.figure.Figure at 0x110395e10>"
       ]
      }
     ],
     "prompt_number": 46
    },
    {
     "cell_type": "markdown",
     "metadata": {},
     "source": [
      "Seems that if we use only the 1000 more popular tags, we are not loosing much. Let's check this theory"
     ]
    },
    {
     "cell_type": "code",
     "collapsed": false,
     "input": [
      "# the top 1000 tags data, users and all\n",
      "top_tags = tags_count[tags_count.rank(ascending=False)<1000].index\n",
      "top_tags_data= tags[tags.name.isin(top_tags)]\n",
      "print 'total number of users - 1000 tags count' , top_tags_data['user_id'].nunique()\n",
      "print 'total number of users - all tags count' , tags['user_id'].nunique()"
     ],
     "language": "python",
     "metadata": {},
     "outputs": [
      {
       "output_type": "stream",
       "stream": "stdout",
       "text": [
        "total number of users - 1000 tags "
       ]
      },
      {
       "output_type": "stream",
       "stream": "stdout",
       "text": [
        "37110\n",
        "total number of users - all tags "
       ]
      },
      {
       "output_type": "stream",
       "stream": "stdout",
       "text": [
        "37114\n"
       ]
      }
     ],
     "prompt_number": 58
    },
    {
     "cell_type": "markdown",
     "metadata": {},
     "source": [
      "Ok. We can leave with this 4 users that do not have any of our top tags"
     ]
    },
    {
     "cell_type": "markdown",
     "metadata": {},
     "source": [
      "If we get the tags that have more users:"
     ]
    },
    {
     "cell_type": "code",
     "collapsed": false,
     "input": [
      "# the top 1000 tags data, users and all\n",
      "top_users_tags = tags_users_count[tags_users_count.rank(ascending=False)<1000].index\n",
      "top_users_tags_data= tags[tags.name.isin(top_users_tags)]\n",
      "print 'total number of users - 1000 tags users' , top_users_tags_data['user_id'].nunique()\n",
      "print 'total number of users - all tags users' , tags['user_id'].nunique()"
     ],
     "language": "python",
     "metadata": {},
     "outputs": [
      {
       "output_type": "stream",
       "stream": "stdout",
       "text": [
        "total number of users - 1000 tags users "
       ]
      },
      {
       "output_type": "stream",
       "stream": "stdout",
       "text": [
        "37109\n",
        "total number of users - all tags users "
       ]
      },
      {
       "output_type": "stream",
       "stream": "stdout",
       "text": [
        "37114\n"
       ]
      }
     ],
     "prompt_number": 62
    },
    {
     "cell_type": "code",
     "collapsed": false,
     "input": [
      "# are they the same tags?\n",
      "top_users_tags_data.name.unique() in (top_tags_data.name.unique())"
     ],
     "language": "python",
     "metadata": {},
     "outputs": [
      {
       "metadata": {},
       "output_type": "pyout",
       "prompt_number": 72,
       "text": [
        "True"
       ]
      }
     ],
     "prompt_number": 72
    },
    {
     "cell_type": "code",
     "collapsed": false,
     "input": [
      "print 'New Avg Number of tags per user', top_tags_data.groupby('user_id')['name'].nunique().mean()\n",
      "print 'New SD Number of tags per user', top_tags_data.groupby('user_id')['name'].nunique().std()"
     ],
     "language": "python",
     "metadata": {},
     "outputs": [
      {
       "output_type": "stream",
       "stream": "stdout",
       "text": [
        "New Avg Number of tags per user "
       ]
      },
      {
       "output_type": "stream",
       "stream": "stdout",
       "text": [
        "59.9588790084\n",
        "New SD Number of tags per user "
       ]
      },
      {
       "output_type": "stream",
       "stream": "stdout",
       "text": [
        "16.7667710848\n"
       ]
      }
     ],
     "prompt_number": 88
    },
    {
     "cell_type": "code",
     "collapsed": false,
     "input": [
      "print 'New Avg Number of tags per user', top_users_tags_data.groupby('user_id')['name'].nunique().mean()\n",
      "print 'New SD Number of tags per user', top_users_tags_data.groupby('user_id')['name'].nunique().std()"
     ],
     "language": "python",
     "metadata": {},
     "outputs": [
      {
       "output_type": "stream",
       "stream": "stdout",
       "text": [
        "New Avg Number of tags per user "
       ]
      },
      {
       "output_type": "stream",
       "stream": "stdout",
       "text": [
        "61.6216012288\n",
        "New SD Number of tags per user "
       ]
      },
      {
       "output_type": "stream",
       "stream": "stdout",
       "text": [
        "16.9869492262\n"
       ]
      }
     ],
     "prompt_number": 89
    },
    {
     "cell_type": "markdown",
     "metadata": {},
     "source": [
      "Conclusions about the tags and the 50k users:\n",
      "\n",
      "- most of the tags are used just a few times and have few users. \n",
      "- even if I reduce the amounts of tags, I don't loose a lot of users. \n",
      "- most of the times, a user will have interest in this tags"
     ]
    },
    {
     "cell_type": "code",
     "collapsed": false,
     "input": [],
     "language": "python",
     "metadata": {},
     "outputs": []
    }
   ],
   "metadata": {}
  }
 ]
}