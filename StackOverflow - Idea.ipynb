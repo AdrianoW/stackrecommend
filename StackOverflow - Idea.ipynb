{
 "metadata": {
  "name": "",
  "signature": "sha256:a76fefb2bf9c9d7163077cdb9cbd1e6b6e71199734067a08409b628a10d22d74"
 },
 "nbformat": 3,
 "nbformat_minor": 0,
 "worksheets": [
  {
   "cells": [
    {
     "cell_type": "markdown",
     "metadata": {},
     "source": [
      "<center>\n",
      "# Stack Overflow Recommendation System (RecommendMe!)\n"
     ]
    },
    {
     "cell_type": "markdown",
     "metadata": {},
     "source": [
      "## Intro and Business Requirements"
     ]
    },
    {
     "cell_type": "markdown",
     "metadata": {},
     "source": [
      "This notebook describe the project that I will be doing when attending to Data Science retreat.\n",
      "\n",
      "The must have requirements of the project are:\n",
      "\n",
      "By giving his SO username\n",
      "+ recommend the best posts to be answered (difficulty/domain) by the user \n",
      "+ posts that he could be interested in reading."
     ]
    },
    {
     "cell_type": "markdown",
     "metadata": {},
     "source": [
      "The nice to have are:\n",
      "By logging on the Recommendation system using SO account\n",
      "\n",
      "+ learn path - according to some knowledge the user wants, recomend the posts that will give him a learning path\n",
      "+ keep track of what he has been recommended and what action he took (read, like it), etc.\n"
     ]
    },
    {
     "cell_type": "markdown",
     "metadata": {},
     "source": [
      "## Functional requirements"
     ]
    },
    {
     "cell_type": "markdown",
     "metadata": {},
     "source": [
      "As of now, the functional requirements are:\n",
      "\n",
      "+ there should be a website so that the user can acess and use the system.\n",
      "+ recommendation system that will recommend questions on the system"
     ]
    },
    {
     "cell_type": "markdown",
     "metadata": {},
     "source": [
      "As sugestions to the requirements:\n",
      "\n",
      "+ the system should be hosted online\n",
      "+ the sytem could have apis\n",
      "+ the system should be easily scalable"
     ]
    },
    {
     "cell_type": "markdown",
     "metadata": {},
     "source": [
      "## Implementation"
     ]
    },
    {
     "cell_type": "markdown",
     "metadata": {},
     "source": [
      "Some ideas that could be interesting\n",
      "\n",
      "+ Offer to answer questions on the same level the user is\n",
      "+ based on his level, check answers that somebody on his level gave, so maybe he could learn that\n",
      "+ create the happy path based on the views that people of the same level did and had most views\n"
     ]
    },
    {
     "cell_type": "markdown",
     "metadata": {},
     "source": [
      "### What's the story"
     ]
    },
    {
     "cell_type": "markdown",
     "metadata": {},
     "source": [
      "I am an user, that comes into stack overflow. I have created a profile. \n",
      "\n",
      "Information that does not change (much):\n",
      "\n",
      "+ Unique:\n",
      "    + website\n",
      "\n",
      "+ Not so unique\n",
      "    + age\n",
      "    + location\n",
      "    \n",
      "Information do not depends on me:\n",
      "\n",
      "+ Views\n",
      "\n",
      "Depends on me directly:\n",
      "\n",
      "+ nr answers\n",
      "+ answers\n",
      "+ questions\n",
      "+ tags\n",
      "+ upvote\n",
      "\n",
      "\n",
      "Depends on me, by the system\n",
      "\n",
      "+ badges\n",
      "+ reputation\n",
      "+ tags acceptance\n"
     ]
    },
    {
     "cell_type": "markdown",
     "metadata": {},
     "source": [
      "### Rules of the game"
     ]
    },
    {
     "cell_type": "markdown",
     "metadata": {},
     "source": [
      "+ Every time I have an interaction with the website, my points are changed. This means that I do not know what was my situation (in points, badges, etc) by the time I had asked/answered/upvoted a question.\n",
      "+ Points give me badges/reputation\n",
      "+ Questions give me more badges"
     ]
    },
    {
     "cell_type": "markdown",
     "metadata": {},
     "source": [
      "### The logic of _RecommendMe_"
     ]
    },
    {
     "cell_type": "markdown",
     "metadata": {},
     "source": [
      "Users:\n",
      "    Have a knowledge\n",
      "\n",
      "    + Based on the Tags (main)\n",
      "    + Based on a Bag of technical word on Website, Questions Answers, Questions Upvoted (secondary)\n",
      "\n",
      "    This will create a (word, points) in 2 levels, that should be the knowledge of the user\n",
      "\n",
      "Content:\n",
      "    Contain a knowledge\n",
      "    \n",
      "    + Tags\n",
      "    + Bags\n",
      "    \n",
      "Predictions:\n",
      "    \n",
      "    + Sugestion of reading: main tags, different second tags\n",
      "        + order by:\n",
      "            + most view\n",
      "            + asked by guys with the same level of experience or higher\n",
      "    + Sugestion of answering: most main tags and second\n",
      "        + order by: \n",
      "            + not answered\n",
      "            + most common with the tags\n",
      "            + most common with words\n",
      "        "
     ]
    },
    {
     "cell_type": "markdown",
     "metadata": {},
     "source": [
      "### Data"
     ]
    },
    {
     "cell_type": "markdown",
     "metadata": {},
     "source": [
      "Post size: \n",
      "Max quota: 10.000/day"
     ]
    },
    {
     "cell_type": "markdown",
     "metadata": {},
     "source": [
      "### References"
     ]
    },
    {
     "cell_type": "markdown",
     "metadata": {},
     "source": [
      "+ [Predicting Tags for StackOverflow Posts](http://iccm-conference.org/2013-proceedings/papers/0077/paper0077.pdf)"
     ]
    },
    {
     "cell_type": "markdown",
     "metadata": {},
     "source": [
      "### Problems"
     ]
    },
    {
     "cell_type": "markdown",
     "metadata": {},
     "source": [
      "+ no tags on the users - use the api to get the tags\n",
      "+ to get 100 users, took 1min 3s. 14800 lines of information, 148 calls. - got better with just the users\n",
      "+ the best users have 4k tags - reduced to 100. \n",
      "+ using a mobile phone as internet hub. The connection drops every hundred call - the code was more robust, waiting 65 secs when the problem was detected\n"
     ]
    },
    {
     "cell_type": "code",
     "collapsed": false,
     "input": [],
     "language": "python",
     "metadata": {},
     "outputs": []
    }
   ],
   "metadata": {}
  }
 ]
}